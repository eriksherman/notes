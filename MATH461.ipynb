{
 "cells": [
  {
   "cell_type": "code",
   "execution_count": 1,
   "metadata": {},
   "outputs": [
    {
     "name": "stdout",
     "output_type": "stream",
     "text": [
      "hello world\n"
     ]
    }
   ],
   "source": [
    "print('hello world')"
   ]
  },
  {
   "cell_type": "markdown",
   "metadata": {},
   "source": [
    "# MATH461 Linear Algebra\n",
    "### Midterm 1 Material\n",
    "\n",
    "**echelon**: diagonal pattern\n",
    "\n",
    "row echelon matrix form:\n",
    "1. all leading entries start with zero\n",
    "2. the leading entry in a lower row is to the right of the leading entry in the row above it\n",
    "3. rows consisting of all zeros are on the bottom of the matrix\n",
    "example:\n",
    "$$\\begin{bmatrix}\n",
    "1 & 2 & 3 & 4\\\\\n",
    "0 & 1 & 2 & 3\\\\\n",
    "0 & 0 & 1 & 2\\\\\n",
    "\\end{bmatrix}$$\n",
    "\n",
    "reduced row echelon matrix form:\n",
    "1. all of the three above (for row echelon form) AND\n",
    "2. a leading entry in a column must be the only entry in that column (no numbers above or below leading entry)\n",
    "\n",
    "$$\\begin{bmatrix}\n",
    "1 & 0 & 0 & 2\\\\\n",
    "0 & 1 & 0 & 2\\\\\n",
    "0 & 0 & 1 & 2\\\\\n",
    "\\end{bmatrix}$$\n"
   ]
  },
  {
   "cell_type": "markdown",
   "metadata": {},
   "source": [
    "\n",
    "system of linear combinations\n",
    "$$1x_1 + 2x_2 + 3x_3 = 4$$\n",
    "$$5x_1 + 6x_2 + 7x_3 = 8$$\n",
    "$$9x_1 + 10x_2 + 11x_3 = 12$$\n",
    "\n",
    "can be written as...\n",
    "\n",
    "1. an augmented matrix\n",
    "$$\\begin{bmatrix}\n",
    "1 & 2 & 3 & 4\\\\\n",
    "5 & 6 & 7 & 8\\\\\n",
    "9 & 10 & 11 & 12\n",
    "\\end{bmatrix}$$\n",
    "\n",
    "2. a linear combination\n",
    "$$\\begin{bmatrix}1\\\\5\\\\9\\end{bmatrix}x_1 + \\begin{bmatrix}2\\\\6\\\\10\\end{bmatrix}x_2 + \\begin{bmatrix}3\\\\7\\\\1\\end{bmatrix}x_2 = \\begin{bmatrix}4\\\\8\\\\12\\end{bmatrix}$$\n",
    "\n",
    "3. a matrix equation\n",
    "$$Ax=b$$\n",
    "$$\\begin{bmatrix}A\\end{bmatrix}\\vec{x}=\\vec{b}$$\n",
    "$$\n",
    "\\begin{bmatrix}\n",
    "1 & 2 & 3\\\\\n",
    "5 & 6 & 7\\\\\n",
    "9 & 10 & 11\n",
    "\\end{bmatrix} x = \\begin{bmatrix}4\\\\8\\\\12\\end{bmatrix}\n",
    "$$\n",
    "where $A$ is a coefficient matrix\n",
    "\n"
   ]
  },
  {
   "cell_type": "markdown",
   "metadata": {},
   "source": [
    "\n",
    "- A row/column is linearly independent with respect to other rows/columns if it contains a pivot when matrix is in echelon form\n",
    "\n",
    "- If $A$ is a standard matrix for $T: \\mathbb{R}^n \\rightarrow \\mathbb{R}^m$,\n",
    "\t- T maps $\\mathbb{R}^n$ <ins>onto</ins> $\\mathbb{R}^m$ means that for every output vector in $\\mathbb{R}^m$ there exists an input vector in $\\mathbb{R}^n$ that creates it\n",
    "\t- T maps $\\mathbb{R}^n$ <ins>onto</ins> $\\mathbb{R}^m$ iff the columns of $A$ span $\\mathbb{R}^m$\n",
    "\t- T being one-to-one means that every input vector in $\\mathbb{R}^n$ creates one and only one output vector in $\\mathbb{R}^m$\n",
    "\t- T is one-to-one iff columns of $A$ are linearly independent"
   ]
  },
  {
   "cell_type": "markdown",
   "metadata": {},
   "source": [
    "### Algorithm to solve matrix inverse\n",
    "- given a coefficient matrix $A$\n",
    "- "
   ]
  },
  {
   "cell_type": "markdown",
   "metadata": {},
   "source": [
    "det is zero if columns linearly independent\n",
    "\n",
    "\n",
    "<img src='assets/theorem1.png' width='300px'/>\n"
   ]
  },
  {
   "cell_type": "markdown",
   "metadata": {},
   "source": []
  }
 ],
 "metadata": {
  "interpreter": {
   "hash": "45a163092a4c15c14de8a0a960998a21b36bc7cf09348cae76f1319e70b88cf4"
  },
  "kernelspec": {
   "display_name": "Python 3.9.1 ('ai')",
   "language": "python",
   "name": "python3"
  },
  "language_info": {
   "codemirror_mode": {
    "name": "ipython",
    "version": 3
   },
   "file_extension": ".py",
   "mimetype": "text/x-python",
   "name": "python",
   "nbconvert_exporter": "python",
   "pygments_lexer": "ipython3",
   "version": "3.9.1"
  },
  "orig_nbformat": 4
 },
 "nbformat": 4,
 "nbformat_minor": 2
}
