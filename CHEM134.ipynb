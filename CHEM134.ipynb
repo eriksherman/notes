{
 "cells": [
  {
   "cell_type": "markdown",
   "metadata": {},
   "source": [
    "# Kinetics, rate laws\n",
    "[MIT Kinetics: Rate Laws](https://www.youtube.com/watch?v=B7iFcW8USjQ&list=PLUl4u3cNGP63LOmB3_O0xbgZVZibxj4rb&index=30)"
   ]
  },
  {
   "cell_type": "markdown",
   "metadata": {},
   "source": [
    "### rate expressions\n",
    "rxn $aA + bB \\rightarrow cC + dD$\n",
    "\n",
    "rate (of rxn) $= \\frac{-1}{a} \\frac{d[A]}{dt} = \\frac{-1}{b} \\frac{d[B]}{dt} = \\frac{1}{c} \\frac{d[C]}{dt} = \\frac{1}{d} \\frac{d[D]}{dt}$\n"
   ]
  },
  {
   "cell_type": "markdown",
   "metadata": {},
   "source": [
    "### rate laws\n",
    "relationship between the rate of the rxn and the concentration of reactants (and sometimes products)\n",
    "\n",
    "rate (of rxn) $= k [A]^m + [B]^n$\n",
    "where k is a the rate constant\n",
    "\n",
    "rate laws are a result of experimental observation"
   ]
  },
  {
   "cell_type": "markdown",
   "metadata": {},
   "source": [
    "### integrated rate laws\n",
    "first order $A \\rightarrow B$ where $m$ in rate law is 1\n",
    "\n",
    "rate $= \\frac{-d[A]}{dt} = k [A]^1$\n",
    "integrate to find $[A]_t = [A]_0 e^{-kt}$"
   ]
  },
  {
   "cell_type": "markdown",
   "metadata": {},
   "source": [
    "### relationship between k (rate constant) and K (equilibrium constant)\n",
    "\n",
    "for rxn $A + B \\leftrightarrow C + D$\n",
    "\n",
    "$K = \\frac{[C][D]}{[A][B]}$ at equilibrium\n",
    "\n",
    "forward rxn $rate_f = k_1 [A] [B]$\n",
    "reverse rxn $rate_r = k_{-1} [C] [D]$\n",
    "\n",
    "at equilibrium these rates are equal\n",
    "$K = \\frac{[C][D]}{[A][B]} = \\frac{k_1}{k_{-1}}$\n"
   ]
  }
 ],
 "metadata": {
  "language_info": {
   "name": "python"
  },
  "orig_nbformat": 4
 },
 "nbformat": 4,
 "nbformat_minor": 2
}
