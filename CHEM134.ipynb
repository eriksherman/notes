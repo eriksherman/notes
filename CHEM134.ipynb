{
 "cells": [
  {
   "cell_type": "markdown",
   "metadata": {},
   "source": [
    "# Kinetics, rate laws\n",
    "[MIT Kinetics: Rate Laws](https://www.youtube.com/watch?v=B7iFcW8USjQ&list=PLUl4u3cNGP63LOmB3_O0xbgZVZibxj4rb&index=30)"
   ]
  },
  {
   "cell_type": "markdown",
   "metadata": {},
   "source": [
    "### rate expressions\n",
    "rxn $aA + bB \\rightarrow cC + dD$\n",
    "\n",
    "rate (of rxn) $= \\frac{-1}{a} \\frac{d[A]}{dt} = \\frac{-1}{b} \\frac{d[B]}{dt} = \\frac{1}{c} \\frac{d[C]}{dt} = \\frac{1}{d} \\frac{d[D]}{dt}$\n"
   ]
  },
  {
   "cell_type": "markdown",
   "metadata": {},
   "source": [
    "### rate laws\n",
    "relationship between the rate of the rxn and the concentration of reactants (and sometimes products)\n",
    "\n",
    "rate (of rxn) $= k [A]^m + [B]^n$\n",
    "where k is a the rate constant\n",
    "\n",
    "rate laws are a result of experimental observation"
   ]
  },
  {
   "cell_type": "markdown",
   "metadata": {},
   "source": [
    "### integrated rate laws\n",
    "first order $A \\rightarrow B$ where $m$ in rate law is 1\n",
    "\n",
    "rate $= \\frac{-d[A]}{dt} = k [A]^1$\n",
    "integrate to find $[A]_t = [A]_0 e^{-kt}$"
   ]
  },
  {
   "cell_type": "markdown",
   "metadata": {},
   "source": [
    "### relationship between k (rate constant) and K (equilibrium constant)\n",
    "[Nuclear Chemistry and Chemical Kinetics](https://www.youtube.com/watch?v=XKeAd4xybjM&list=PLUl4u3cNGP63LOmB3_O0xbgZVZibxj4rb&index=31)\n",
    "\n",
    "for rxn $aA + bB \\leftrightarrow cC + dD$\n",
    "\n",
    "$K = \\frac{[C]^c[D]^d}{[A]^a[B]^b}$ at equilibrium\n",
    "\n",
    "forward rxn $rate_f = k_1 [A] [B]$\n",
    "reverse rxn $rate_r = k_{-1} [C] [D]$\n",
    "\n",
    "at equilibrium these rates are equal\n",
    "$K = \\frac{[C]^c[D]^d}{[A]^a[B]^b} = \\frac{k_1}{k_{-1}}$\n"
   ]
  },
  {
   "cell_type": "markdown",
   "metadata": {},
   "source": [
    "$ K > 1$ means *more* products @ eq. $k_1 > k_{-1}$ (rate forward > rate backwards)\n",
    "\n",
    "$ K < 1$ means *less* products @ eq. $k_{-1} > k_{1}$ (rate backwards > rate forwards)\n"
   ]
  },
  {
   "cell_type": "markdown",
   "metadata": {},
   "source": [
    "<img src='assets/diagram.png' width='300px' />"
   ]
  },
  {
   "cell_type": "markdown",
   "metadata": {},
   "source": [
    "### $\\vec{F} = \\frac{q_2 q_2}{r^2} \\hat{r}$"
   ]
  }
 ],
 "metadata": {
  "interpreter": {
   "hash": "45a163092a4c15c14de8a0a960998a21b36bc7cf09348cae76f1319e70b88cf4"
  },
  "kernelspec": {
   "display_name": "Python 3.9.1 ('ai')",
   "language": "python",
   "name": "python3"
  },
  "language_info": {
   "codemirror_mode": {
    "name": "ipython",
    "version": 3
   },
   "file_extension": ".py",
   "mimetype": "text/x-python",
   "name": "python",
   "nbconvert_exporter": "python",
   "pygments_lexer": "ipython3",
   "version": "3.9.1"
  },
  "orig_nbformat": 4
 },
 "nbformat": 4,
 "nbformat_minor": 2
}
