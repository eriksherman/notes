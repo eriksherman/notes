{
 "cells": [
  {
   "cell_type": "markdown",
   "metadata": {},
   "source": [
    "### Lecture May 28\n",
    "[link](https://umd.hosted.panopto.com/Panopto/Pages/Viewer.aspx?id=860725a8-12f3-4c1a-8676-ae850110107a)"
   ]
  },
  {
   "cell_type": "markdown",
   "metadata": {},
   "source": [
    "### Trait Bounds\n",
    "- parameterize over a type that has a trait\n",
    "\n",
    "```\n",
    "pub fn notify<T: Summarizable>(item: T) {\n",
    "\tprintln(\"{}\",item.summary());\n",
    "}\n",
    "```\n",
    "\n",
    "- same as in Java... `<T extends Summarizable>`\n",
    "- where `T` must implement `Summarizable`"
   ]
  },
  {
   "cell_type": "markdown",
   "metadata": {},
   "source": [
    "- trait implementations can be generic 6:30\n",
    "\n",
    "- multiple trait bounds using +\n",
    "`fn foo<T: Clone + Summarizable>() -> i32 {}` or `fn foo<T>() -> i32 where T: Clone + Summarizable {}`\n",
    "\n"
   ]
  },
  {
   "cell_type": "markdown",
   "metadata": {},
   "source": [
    "- `Box<T>` Smart Pointers\n",
    "\n",
    "- `Box<T>` values point to heap-allocated data\n",
    "- the `Box<T>` value (the pointer) is on the stack, while its pointed-to T value is allocated on the heap\n",
    "\t- has `Deref` trait\n",
    "\t- has `Drop` trait\n",
    "\n",
    "- can reduce copying?\n",
    "- more efficient recursive type?"
   ]
  },
  {
   "cell_type": "markdown",
   "metadata": {},
   "source": [
    "Example: a Linked List\n",
    "\n",
    "this doesn't work:\n",
    "```\n",
    "enum List {\n",
    "\tNul,\n",
    "\tCons(i32,List)\n",
    "}\n",
    "```\n",
    "- compiler doesn't know the size of List\n",
    "- since List is recursive, it could be any size\n",
    "\n",
    "soln: use a Box to add an indirection...\n",
    "\n",
    "```\n",
    "enum List {\n",
    "\tNul, Cons(i32, Box<List>)\n",
    "}\n",
    "```\n",
    "now the size is fixed: i32 + size of pointer OR size of Nil\n"
   ]
  },
  {
   "cell_type": "markdown",
   "metadata": {},
   "source": [
    "\"referred-to\" data (in heap) dropped as soon as the box goes out of scope"
   ]
  },
  {
   "cell_type": "markdown",
   "metadata": {},
   "source": [
    "Deref\n",
    "\n",
    "- if `x` is an `int` then `&x` is an `&int`\n",
    "\n",
    "- `*(&x) = x`\n",
    "\n",
    "- Deref trait requires `deref(&self) -> &T` method\n",
    "\n",
    "- DerefMut trait for when an object is mutable\n",
    "\n",
    "- example of compiler inserting a deref call 22:22"
   ]
  },
  {
   "cell_type": "markdown",
   "metadata": {},
   "source": [
    "receiver method 27:00\n",
    "- Java has dynamic dispatch (polymorphism). The correct method to run is determined at runtime\n",
    "\n",
    "- To implement dispatch in Rust, use trait objects\n",
    "\n",
    "- `dyn Summarizable`, wrapped in `Box` 30:00\n",
    "\n",
    "```\n",
    "fn print_summarizable(s: Box<dyn Summarizable>) {\n",
    "\tprintln!(\"{}\", sm.summary())\n",
    "}\n",
    "```\n",
    "\n",
    "callers of method use Box to put the data on the heap\n",
    "\n",
    "```\n",
    "pub fn main() {\n",
    "\tlet b = Box::new(42);\n",
    "\tprint_summarizable(b)\n",
    "}\n",
    "```\n"
   ]
  },
  {
   "cell_type": "markdown",
   "metadata": {},
   "source": [
    "- need Box because `dyn Summarizable` doesn't have a known size at compile-time"
   ]
  },
  {
   "cell_type": "markdown",
   "metadata": {},
   "source": [
    "Box and size\n",
    "- `Box<i32>` is a pointer to a heap-allocated i32\n",
    "- `Box<dyn Summarizable>` is a fat pointer to a heap-allocated Summarizable\n",
    "\n",
    "size of struct 33:30\n",
    "\n",
    "\n"
   ]
  },
  {
   "cell_type": "markdown",
   "metadata": {},
   "source": [
    "Box: smart pointer 34:53\n",
    "- A smart pointer is a reference + metadata\n",
    "- `String`, `Vec<T>`, `Box<T>`\n",
    "\n",
    "Boxes are useful for non cyclic, immutable data structures\n",
    "use trait objects of type `Box<dyn Trait>`"
   ]
  },
  {
   "cell_type": "markdown",
   "metadata": {},
   "source": [
    "Rust ownership / mutability rules 37:55\n",
    "- enables type safety, but quite restrictive\n",
    "- sometimes mutation and sharing is useful\n",
    "- shared mutable access to the owner is disallowed in rust\n",
    "- there is a way to overcome this\n",
    "\t- multiple references to mutable data, but, keep track of how many\n",
    "\t- this is called interior mutability\n",
    "\t- there are extra space and time overhead when keeping track of references\n",
    "\t- might violate rust ownership at runtime\n",
    "\n",
    "example 49:10\n"
   ]
  },
  {
   "cell_type": "markdown",
   "metadata": {},
   "source": [
    "rules for interior mutability 53:25\n",
    "- smart pointer associates a counter with the underlying reference\n",
    "- clone copes the pointer and bumps the counter by one\n",
    "- calling drop reduces the counter by one\n",
    "- when the counter hits zero the data is freed\n",
    "- counter is called refCount"
   ]
  },
  {
   "cell_type": "markdown",
   "metadata": {},
   "source": [
    "cyclic data 1:05:00"
   ]
  },
  {
   "cell_type": "markdown",
   "metadata": {},
   "source": [
    "Rc references: no mutation 1:09:42\n",
    "- needed for a case like lists with tails that are shared\n",
    "- cant have multiple references that mutate the heap value"
   ]
  },
  {
   "cell_type": "markdown",
   "metadata": {},
   "source": [
    "- `Box<T>`references data that is immutable\n",
    "- `Cell<T>` is like `Box<T>` but with mutable contents\n",
    "- Rc is like `Box<T>` but with multiple references\n",
    "- RefCell is like `Cell<T>` but with multiple mutable references"
   ]
  },
  {
   "cell_type": "markdown",
   "metadata": {},
   "source": [
    "RefCell has a *dynamic* borrow"
   ]
  }
 ],
 "metadata": {
  "language_info": {
   "name": "python"
  },
  "orig_nbformat": 4
 },
 "nbformat": 4,
 "nbformat_minor": 2
}
