{
 "cells": [
  {
   "cell_type": "markdown",
   "metadata": {},
   "source": [
    "### Lecture April 26\n",
    "starting at 50:00, rest of notes are on ipad\n",
    "\n",
    "[link](https://umd.hosted.panopto.com/Panopto/Pages/Viewer.aspx?id=b4d58e97-bb3f-47f0-badf-ae830110728a)"
   ]
  },
  {
   "cell_type": "markdown",
   "metadata": {},
   "source": [
    "Rust:\n",
    "\n",
    "```enum Option<T> { Some(T), None, }```\n",
    "\n",
    "Ocaml:\n",
    "\n",
    "```type 'a Option = Some of 'a | None```"
   ]
  },
  {
   "cell_type": "markdown",
   "metadata": {},
   "source": [
    "struct or enum...\n",
    "- struct collection of field\n",
    "- every instance has those fields\n",
    "\n",
    "enum gives you variants...\n",
    "- one kind of a thing or another kind of a thing"
   ]
  },
  {
   "cell_type": "markdown",
   "metadata": {},
   "source": [
    "Generics in Structs & Methods 52:51\n",
    "\n",
    "Pattern matching 53:50\n",
    "\n",
    "- pattern matching must be exhausted\n"
   ]
  },
  {
   "cell_type": "markdown",
   "metadata": {},
   "source": [
    "if-let for non exhaustive matches...\n",
    "\n",
    "```\n",
    "if let Some(42) = x {\n",
    "\t// something\n",
    "} else {\n",
    "\t// something else\n",
    "}\n",
    "```"
   ]
  },
  {
   "cell_type": "markdown",
   "metadata": {},
   "source": [
    "```\n",
    "enum Number {\n",
    "\tZero,\n",
    "\tOne,\n",
    "\tTwo,\n",
    "}\n",
    "use Number::Zero\n",
    "```\n",
    "`use Number::Zero` allows the `Zero` constructor to be used without the \"prepending\" `Number::`"
   ]
  },
  {
   "cell_type": "markdown",
   "metadata": {},
   "source": [
    "recap: structs and enums 1:03:05"
   ]
  },
  {
   "cell_type": "markdown",
   "metadata": {},
   "source": [
    "Traits\n",
    "\n",
    "- abstract behavior that types can have in common\n",
    "- like Java interfaces\n",
    "- can implement traits over any type\n",
    "\n",
    "```\n",
    "pub trait Summarizable {\n",
    "\tfn summary(&self) -> String;\n",
    "}\n",
    "```\n",
    "\n",
    "If a type is Summarizable it must have a method that takes itself and nothing else and returns a String\n",
    "\n",
    "note: pub makes any module function, or data structure accessible from inside of the external modules"
   ]
  },
  {
   "cell_type": "markdown",
   "metadata": {},
   "source": [
    "Java equivalent 1:06:00"
   ]
  },
  {
   "cell_type": "markdown",
   "metadata": {},
   "source": [
    "implementing Summarizable for any tuple of i32... not even a struct!\n",
    "\n",
    "```\n",
    "impl Summarizable for (i32,i32) {\n",
    "\tfn summary(&self) -> String {\n",
    "\t\tlet &(x,y) = self;\n",
    "\t\tformat!(\"{}\",x+y)\n",
    "\t}\n",
    "}\n",
    "```\n",
    "\n",
    "then can do...\n",
    "\n",
    "```\n",
    "let y = (1,2).summary();\n",
    "```"
   ]
  },
  {
   "cell_type": "markdown",
   "metadata": {},
   "source": [
    "Default implementations: traits that are implemented automatically (default)\n",
    "```\n",
    "pub trait Summarizable {\n",
    "\tfn summary(&self) -> String {\n",
    "\t\tString::from(\"none\")\n",
    "\t}\n",
    "}\n",
    "```\n",
    "\n",
    "typically traits are just a list of method signitures... but they can contain default implementations, too.\n",
    "\n",
    "of course, default implementations can be overrided."
   ]
  },
  {
   "cell_type": "code",
   "execution_count": null,
   "metadata": {},
   "outputs": [],
   "source": []
  }
 ],
 "metadata": {
  "interpreter": {
   "hash": "aee8b7b246df8f9039afb4144a1f6fd8d2ca17a180786b69acc140d282b71a49"
  },
  "kernelspec": {
   "display_name": "Python 3.9.10 64-bit",
   "language": "python",
   "name": "python3"
  },
  "language_info": {
   "codemirror_mode": {
    "name": "ipython",
    "version": 3
   },
   "file_extension": ".py",
   "mimetype": "text/x-python",
   "name": "python",
   "nbconvert_exporter": "python",
   "pygments_lexer": "ipython3",
   "version": "3.9.10"
  },
  "orig_nbformat": 4
 },
 "nbformat": 4,
 "nbformat_minor": 2
}
