{
 "cells": [
  {
   "cell_type": "markdown",
   "metadata": {},
   "source": [
    "# Ruby"
   ]
  },
  {
   "cell_type": "markdown",
   "metadata": {},
   "source": [
    "- Control Statement- statement which controls the execution (of code)\n",
    "- uninitialized objects in Ruby default to `nil`\n",
    "- `nil` is a singleton object\n",
    "- Classes are objects in Ruby... There is a Ruby class called `Class`\n",
    "- Classes are first class objects can be mutated, manipulated as any other object"
   ]
  },
  {
   "cell_type": "markdown",
   "metadata": {},
   "source": [
    "Ruby String methods\n",
    "- == structural equality (compare content, not reference)\n",
    "- .chomp (chomps off newline)\n",
    "- .chomp! mutates obj in place\n",
    "- `\"#{<var>}\"` is string interpolation (like a format string)\n",
    "- sprintf returns value.. doesn't print to console\n",
    "\n",
    "Ruby symbols begin with colons\n",
    "- they are \"interned strings\"\n",
    "- same structure guarantees same reference  (.equal and == have same effect)\n",
    "\n",
    "Arrays, Hashes used extensively in Ruby\n",
    "- resizable\n",
    "- [], {}\n",
    "\n",
    "- scripting languages tend to err on the side of *not crashing*\n",
    "- things like returning nul instead of failing with an `IndexOutOfBoundsException`\n",
    "\n",
    "Ruby array methods\n",
    "- .delete(element)\n",
    "- .delete_at(index)\n",
    "\n",
    "Ruby 2D arrays\n",
    "Array.new(3){ Array.new(3) } makes a 3x3 array\n",
    "\n",
    "stack / queue behavior\n",
    "- `.push` add to end\n",
    "- `.pop` rename from end\n",
    "- `.unshift` add to beginning\n",
    "- `.shift` rename from beginning\n"
   ]
  },
  {
   "cell_type": "markdown",
   "metadata": {},
   "source": [
    "- Hashes act like arrays but are indexed by any value (any Ruby object)\n",
    "- Hash.new(v) returns a hash whose default value is v (instead of nil)\n",
    "- literal hash syntax { \"pop\" => 100 }\n",
    "- `.values` array of values of hash\n",
    "- `.keys` array of keys of hash"
   ]
  },
  {
   "cell_type": "markdown",
   "metadata": {},
   "source": [
    "- *formal parameters* of a method: variable parameters used in function definition\n",
    "- *actual arguments*: values passed into function at function invocation"
   ]
  },
  {
   "cell_type": "markdown",
   "metadata": {},
   "source": [
    "- `attr_accessor :x` generates x getters and setters"
   ]
  },
  {
   "cell_type": "markdown",
   "metadata": {},
   "source": [
    "- `class B < A` means `A` is a superclass of `B`\n",
    "- class-wide variables begin with @@ (like java static variables)\n",
    "- global variables across classes begin with $"
   ]
  },
  {
   "cell_type": "markdown",
   "metadata": {},
   "source": [
    "- `str.scan(regexp)` yields an array of everything that matches the regexp\n",
    "- each sub array has the same number of entries as the number of parenthesized subparts (why?)\n",
    "- `str.scan(regexp) {|match| block}` applies code block to each match"
   ]
  },
  {
   "cell_type": "markdown",
   "metadata": {},
   "source": [
    "**Code Block**: piece of code invoked by another piece of code\n",
    "- (like a higher order function when functions are not first class)\n",
    "\n",
    "block_given true/false\n",
    "- yield calls code block\n",
    "- yield can take arg\n",
    "- like invoking a higher order function (if functions were first class in this language)\n",
    "\n",
    "Proc makes an object out of a code block\n",
    "\n",
    "A global constant `argv` stores command line arguments\n",
    "`String.new(x)` is a copy constructor\n",
    "\n",
    "Ruby does reference copies...\n",
    "variables are references to objects... the variables are copied when invoking functions, but doing so copies the reference and thus mutating the reference mutates the same value in memory passed to the function\n",
    "\n",
    "**side note:** javascript is pass by value but variables that reference arrays, objects (values in memory) are just that: references to the objects... this means that mutating a parameter if the parameter is an array or an object changes the parameter \"permanently\" (outside the scope of the function)"
   ]
  },
  {
   "cell_type": "markdown",
   "metadata": {},
   "source": [
    "Ruby module: collection of methods and constants\n",
    "a mixin is like an interface with an implementation"
   ]
  },
  {
   "cell_type": "markdown",
   "metadata": {},
   "source": [
    "# Regular Expressions"
   ]
  },
  {
   "cell_type": "markdown",
   "metadata": {},
   "source": [
    "- `x =~y` is x in the set defined by y?"
   ]
  },
  {
   "cell_type": "markdown",
   "metadata": {},
   "source": [
    "- `/Ruby/` exact match\n",
    "- `/Ruby | Ocaml/ (| means *or*)\n",
    "- `e#` zero or more occurances\n",
    "- `e+` one or more occurances\n",
    "- `bc*`: b, bc, bcc (b followed by zero or more occurances of c)\n",
    "- `a+b*`: a, ab, abb, aabb (one or more as followed by zero or more bs)\n",
    "-  `e?`: exactly zero or one occurrences\n",
    "- `e{x}`: exactly x of e\n",
    "- `e{x,}`: at least x of e\n",
    "- `e{x,y}`: at least x of e and at most y of e (range is x to y inclusive)\n",
    "- `/[abcd]/`: any character in the set\n",
    "- `/[a-zA-z0-9]/`: ranges of characters\n",
    "- `.`: matches any single character\n",
    "- `^`: beginning of line\n",
    "- `$`: end if line\n",
    "- `\\$`: match `$` literal\n",
    "- `\\d`: digit (shorthand for `[0-9]`)\n",
    "- `\\s`: whitespace (shorthand for `[\\t\\r\\n\\f]`)\n",
    "- `^`: not\n",
    "- `\\D`: non-digit `[^0-9]`\n",
    "- `\\S`: non-space `[^\\t\\r\\n\\f]`\n",
    "- `\\W`: non-word `[^A-Za-z0-9]`\n",
    "\n",
    "- `()`: capturing group. groups multiple tokens together and creates a capture group for extracting a substring or using a backreference\n",
    "- **back references** refer to variables that match patters in regular expressions\n",
    "- back references are local (not global)\n",
    "- they get reset every match\n",
    "- [regex builder](https://regexr.com)\n"
   ]
  },
  {
   "cell_type": "markdown",
   "metadata": {},
   "source": [
    "# Ocaml"
   ]
  },
  {
   "cell_type": "markdown",
   "metadata": {},
   "source": [
    "Functional Programming\n",
    "- defined computations as mathematical functions\n",
    "- *discourages* use of mutable state\n",
    "\t- state is the values of variables as a program runs (information maintained by a computation, often an intermediate step)\n",
    "\n",
    "functional vs imperative paradigm\n",
    "functional\n",
    "- higher level of abstraction\n",
    "- what to compute, not how\n",
    "- easier to evelop robust software\n",
    "\n",
    "imperative\n",
    "- lover level of abstraction\n",
    "- describe not what but how to compute something\n",
    "- mutable state, harder to predict state\n",
    "\n",
    "mutating state within a function is called a \"side effect\""
   ]
  },
  {
   "cell_type": "markdown",
   "metadata": {},
   "source": [
    "Referential Transparency: ability to replace expression with the value it evaluates to without affecting the result\n",
    "mutation (through side effects) break referential transparency\n",
    "\n",
    "ML (meta-style) functional languages\n",
    "Ocaml (O means object oriented)\n",
    "Haskell: lazy functional programming\n",
    "- lazy means that the language won't compute things unless it absolutely has to\n",
    "- no side effects\n",
    "Scala: functional and OO programming (runs on JVM)\n",
    "\n",
    "key features of functional programming\n",
    "- functions are first class (can be used as values to create higher order functions)\n",
    "- immutable variables\n",
    "- pattern matching (destructuring of data types)\n",
    "- type inference\n",
    "\t- statically typed but the types are inferred and not always explicitly given by the programer\n",
    "\t- no runtime type errors\n",
    "- have exceptions and garbage collection\n",
    "\t- garbage collection ensures no manual memory allocation / deallocation\n",
    "\t- once a value can no longer be used it is deallocated\n",
    "\t- no dangling pointers\n",
    "\n",
    "OCaml compiler\n",
    "- produces `.cmo` \"compiled object\" file and `.cmi` \"compiled interface\" files\n",
    "- `-o` to set output file name\n",
    "- `-c` to compile only to .cmo/.cmi and not to link\n",
    "\n",
    "dune manages project builds\n",
    "\n",
    "- expressions are primary building block\n",
    "- a value is an expression that is final (can no longer be reduced)\n",
    "- types classify expressions\n",
    "- types represent the set of values that an expression could evaluate to\n",
    "- evaluation order is right -> left (write nicer machine code)\n",
    "- syntax `(e:t)` asserts that `e` has type `t` (type annotation)"
   ]
  },
  {
   "cell_type": "markdown",
   "metadata": {},
   "source": [
    "Lists\n",
    "- implemented as linked lists\n",
    "- lists must be homogenous\n",
    "\t- all elements must be the same type\n",
    "- [] is an empty list\n",
    "- `e1::e2` prepends element `e1` (head) to list `e2` (tail)\n",
    "- `::` operator is called **cons**\n",
    "- `[e1;e2;...en]` is short hand for `e1::e2::...::en::[]`\n",
    "\n",
    "Pattern matching\n",
    "```\n",
    "match e with\n",
    "| p1 -> e1 \n",
    "| ...\n",
    "| pn -> en\n",
    "```\n",
    "<img src=\"assets/pattern-match.png\" width=\"300px\" />"
   ]
  },
  {
   "cell_type": "markdown",
   "metadata": {},
   "source": [
    "Shadowing: re-binding a name in an inner scope to a different expression\n",
    "- doesn't change the expression in the outer scope\n",
    "- can be confusing"
   ]
  },
  {
   "cell_type": "markdown",
   "metadata": {},
   "source": [
    "Tuples - fixed width collection of data\n",
    "- constructed using `(e1,...,en)`\n",
    "Similar to C structs but without field labels\n",
    "- both allocated on the heap\n",
    "\n",
    "tuple types use * to separate components\n",
    "- `(1,2)` is type `int * int`\n"
   ]
  },
  {
   "cell_type": "markdown",
   "metadata": {},
   "source": [
    "Record: identify elements by name\n",
    "define a record type\n",
    "```\n",
    "type data = {month: string, day: int, year: int}\n",
    "```"
   ]
  },
  {
   "cell_type": "markdown",
   "metadata": {},
   "source": [
    "OCaml user-defined variants\n",
    "\n",
    "`type coin = Heads | Tails`\n",
    "\n",
    "example of usage:\n",
    "```\n",
    "let flip x =\n",
    "\tmatch x with\n",
    "\t| Heads -> Tails\n",
    "\t| Tails -> Heads\n",
    "```\n",
    "\n",
    "Constructor constructs variants for the type\n",
    "\n",
    "Variants can carry data\n",
    "- consist of constructor with values\n",
    "\n",
    "ex.\n",
    "```\n",
    "type shape =\n",
    "| Rect of float * float\n",
    "| Circle of float\n",
    "\n",
    "Java uses inheritance, Ocaml uses variant types and pattern matching\n",
    "\n",
    "Polymorphic Option Type\n",
    "Like Option<T> in Java\n",
    "```\n",
    "type 'a option =\n",
    "\t| Some of 'a\n",
    "\t| None\n",
    "```"
   ]
  },
  {
   "cell_type": "markdown",
   "metadata": {},
   "source": [
    "Recursive / Inductive Data Types\n",
    "ex.\n",
    "```\n",
    "type 'a myList\n",
    "\t| Nil\n",
    "\t| Cons of 'a * 'a mylist\n",
    "```\n",
    "\n",
    "Exceptions\n",
    "user defined exception ex.\n",
    "```\n",
    "exception My_Exception of int\n",
    "```\n",
    "\n",
    "`raise <exception>`"
   ]
  },
  {
   "cell_type": "markdown",
   "metadata": {},
   "source": [
    "Tail Recursive Function- result is completely computed by its recursive call\n",
    "- its \"tail\" (last thing it does aka. not a base case) is recursive, and no computation is done after the recursive call \"comes back\"\n",
    "- doesn't require a stack frame for each call\n",
    "- the typical pattern is to add an additional parameter than accumulated the result"
   ]
  },
  {
   "cell_type": "markdown",
   "metadata": {},
   "source": [
    "Closures\n",
    "- the data type used to implement higher order functions\n",
    "```\n",
    "let f x y = x + y\n",
    "let f x (y -> x + y)\n",
    "let f (x -> (y -> x + y)\n",
    "```\n",
    "(all equivalent)\n",
    "\n",
    "- `f 3` is called partial invocation\n",
    "- encoding multivariable functions as a series of single variable functions is called currying\n",
    "- all functions in ocaml only really take one argument\n",
    "\n",
    "Closures \"remember\" the environment\n",
    "- a closure is a pair (f, e) consisting of a function f and an environment e\n",
    "- environment captures active bindings *when closure is made*\n",
    "- these include \"free variables\" mentioned in f's body\n",
    "\t- variables that are in the function's body but are not a direct computation from the parameters of the function\n",
    "\n",
    "when invoking a closure, f is evaluated using e\t\n",
    "**scope** determines how program resolves meaning of variables\n",
    "\n",
    "- dynamic scope- function uses function **invocation** environment\n",
    "- lexical scope (aka. static scope)- function uses function definition environment.\n",
    "\t- implemented via closures"
   ]
  },
  {
   "cell_type": "markdown",
   "metadata": {},
   "source": [
    "Ocaml imperative programming paradigms\n",
    "- Ocaml variables are immutable, but references, fields, and arrays (all values) are mutable\n",
    "- `'a ref` (type): pointer to a value of type a\n",
    "- `ref 'a` -> `a ref` (make a ref to a value)\n",
    "- `!` dereference -> `'a ref -> 'a`\n",
    "- `:=` assign to a reference\n",
    "- binding variable to a reference is immutable, but the contents being referenced can be changed\n",
    "- `e1:=e2` returns `unit`\n",
    "- `e1;e2` is the same as `let _ = e1 in e2`\n",
    "- `;;` returns end of expression. means: \"give me my value\"\n",
    "- `;` separator\n",
    "- `;;` terminator"
   ]
  },
  {
   "cell_type": "markdown",
   "metadata": {},
   "source": [
    "Trade-off of side effects\n",
    "- necessary, but hard to reason\n",
    "- order of evaluation matters, no referential transparency"
   ]
  },
  {
   "cell_type": "markdown",
   "metadata": {},
   "source": [
    "OCaml doesn't specify evaluation order, the compiler does... but its typically right to left\n",
    "- `=` structural equality\n",
    "- `<>` structural inequality\n",
    "\n",
    "records can have mutable keys\n",
    "```\n",
    "type point = { x: int, y: int; mutable c: string }\n",
    "let p = { x=0, y=0; c=\"red\" }\n",
    "p.c <- \"white\"\n",
    "```\n",
    "\n",
    "(what a reference really is)\n",
    "```\n",
    "type 'a ref = {mutable contents: 'a}\n",
    "let ref x = {contents=x}\n",
    "let (!)r = r.contents\n",
    "let (:=)r newval = r.contents <- newval\n",
    "```\n",
    "\n",
    "reference is just a record with a single mutable field"
   ]
  },
  {
   "cell_type": "markdown",
   "metadata": {},
   "source": [
    "Arrays (sequence of mutable values)\n",
    "?\n",
    "\n",
    "control structures\n",
    "```\n",
    "while e1 do e2 done\n",
    "for x=e1 to e2 do e3 done\n",
    "for x=e1 downto e2 do e3 done\n",
    "```"
   ]
  },
  {
   "cell_type": "markdown",
   "metadata": {
    "vscode": {
     "languageId": "plaintext"
    }
   },
   "source": [
    "# Finite Automata (NFAs, DFAs)"
   ]
  },
  {
   "cell_type": "markdown",
   "metadata": {},
   "source": [
    "Finite Automata: abstract mathematical models of computers\n",
    "- model of a computer with a very small amount of memory\n",
    "- can understand them very well because they aren't so complicated\n",
    "\t- because of this, we can generate a comprehensive theory"
   ]
  },
  {
   "cell_type": "markdown",
   "metadata": {},
   "source": [
    "<img src=\"assets/automata.png\" width=\"200px\" />"
   ]
  },
  {
   "cell_type": "markdown",
   "metadata": {},
   "source": [
    "- input: finite string with 0s and 1s\n",
    "- output: accept or reject\n",
    "- every state has an outgoing transition for a 1 and an outgoing transition for a 0\n",
    "- if when following the string you end on an accept state, the input is accepted\n",
    "- 01101 -> accept\n",
    "- 00101 -> reject"
   ]
  },
  {
   "cell_type": "markdown",
   "metadata": {},
   "source": [
    "$M_1$ \"recognizes\" A, A is the \"language\" of $M_1$"
   ]
  },
  {
   "cell_type": "markdown",
   "metadata": {},
   "source": [
    "<img src=\"assets/automata1.png\" width=\"300px\" />\n",
    "<img src=\"assets/automata2.png\" width=\"300px\" />"
   ]
  },
  {
   "cell_type": "markdown",
   "metadata": {
    "vscode": {
     "languageId": "plaintext"
    }
   },
   "source": [
    "- string -> finite sequence of symbols in $\\Sigma$\n",
    "- A language is a set of strings\n",
    "- the empty string $\\epsilon$ is the string of length 0\n",
    "- the empty language $\\emptyset$"
   ]
  },
  {
   "cell_type": "markdown",
   "metadata": {},
   "source": [
    "Formal defn of accepting a string...\n",
    "$M$ accepts string $\\omega=\\omega_1\\omega_2...\\omega_n$ (where $\\omega_i \\in \\Sigma$)\n",
    "\n",
    "if there is a series of states $r_0r_1r_2...r_n$ (where $\\omega_i \\in \\Sigma$)\n",
    "\n",
    "where\n",
    "\n",
    "$r_0=q_0$\n",
    "\n",
    "$r_i=\\delta$ ($r_{i-1}$,$w_i$) there exists a transition from $r_{i-1}$ to $r_i$ on $\\omega_i$\n",
    "\n",
    "$r_n \\in F$"
   ]
  },
  {
   "cell_type": "markdown",
   "metadata": {},
   "source": [
    "- A machine always recognizes one language\n",
    "- A language is regular if a sole finite automaton recognizes it"
   ]
  },
  {
   "cell_type": "markdown",
   "metadata": {},
   "source": [
    "- **dead states** are non-final states which no transition to another state\n",
    "- regex -> NFA -> DFA (algorithm for matching regexp)\n",
    "- $\\epsilon$ transitions are transitions from one state to another without consuming a character"
   ]
  },
  {
   "cell_type": "markdown",
   "metadata": {},
   "source": [
    "NFA -> DFA algorithm\n",
    "Goal: construct DFA where each state of the DFA represents a set of NFA \"current states\"\n",
    "\n",
    "[Lecture March 15 8:40](https://umd.hosted.panopto.com/Panopto/Pages/Viewer.aspx?id=823f8c19-cbec-499f-9959-ae5b010ff945)\n",
    "this algorithms has 2 subroutines:\n",
    "- $\\epsilon$-closure($\\delta$,$p$)\n",
    "\t- $p$ is an NFA state\n",
    "\t- this subroutine returns the set of all states reachable by $\\epsilon$-transitions off of $p$\n",
    "\t\t- this set always includes $p$\n",
    "- move ($\\delta$, $p$, $\\sigma$)\n",
    "\t- $p$ is an NFA state, $\\sigma$ is a symbol\n",
    "\n",
    "\n",
    "[Lecture March 15 31:45 full algorithm](https://umd.hosted.panopto.com/Panopto/Pages/Viewer.aspx?id=823f8c19-cbec-499f-9959-ae5b010ff945)\n",
    "\n",
    "- given NFA with n states, DFA might have $2^n$ states, since each DFA state is a subset of NFA states and there may be $2^n$ subsets of a set of n sets\n",
    "- this means reducing an NFA might be O($2^n$)\n",
    "- constructing the DFA is a one-time cost\n",
    "- running the DFA after the reduction takes linear time (faster than running NFA)"
   ]
  },
  {
   "cell_type": "markdown",
   "metadata": {},
   "source": [
    "DFA -> regex\n",
    "\n",
    "<img src=\"assets/dfa-regex1.png\" width=\"230px\" />\n",
    "<img src=\"assets/dfa-regex2.png\" width=\"200px\" />\n",
    "<img src=\"assets/dfa-regex3.png\" width=\"200px\" />\n",
    "<img src=\"assets/dfa-regex4.png\" width=\"200px\" />"
   ]
  },
  {
   "cell_type": "markdown",
   "metadata": {},
   "source": [
    "[Regex -> NFAs](https://www.cs.umd.edu/class/spring2022/cmsc330/lectures/18-automata2.pdf)\n",
    "\"Reducing Regular Expressions to NFAs\"\n"
   ]
  },
  {
   "cell_type": "markdown",
   "metadata": {},
   "source": [
    "[Lecture March 17 Context Free Grammars](https://umd.hosted.panopto.com/Panopto/Pages/Viewer.aspx?id=823f8c19-cbec-499f-9959-ae5b010ff945)"
   ]
  },
  {
   "cell_type": "markdown",
   "metadata": {},
   "source": [
    "Interpreters\n",
    "- source -> parse to data structure (Abstract Syntax Tree) -> evaluate + output\n",
    "\n",
    "Context Free Grammar\n",
    "- L(G) -> set of strings defined by grammar G\n",
    "\n",
    "ex.\n",
    "\n",
    "S -> $\\epsilon$ | 0S | 1S\n",
    "\n",
    "- CFGs subsume REs\n",
    "- CFGs are the basis of parsers\n",
    "formal definition 21:51\n",
    "\n",
    "- terminal symbols (single character)\n",
    "- nonterminal symbols (represent starts of a transition)\n",
    "- productions (nonterminal symbol mapping to a series of nonterminal / terminal symbols)\n",
    "\n",
    "designing grammars 41:48"
   ]
  },
  {
   "cell_type": "markdown",
   "metadata": {},
   "source": [
    "Parse Tree- evidence that string is parsed by grammar\n",
    "AST represents parsed input 53:47\n",
    "difference between parse trees and ASTs 56:18"
   ]
  },
  {
   "cell_type": "markdown",
   "metadata": {},
   "source": [
    "<img src=\"assets/parse1.png\" width=\"200px\" />\n",
    "<img src=\"assets/ast1.png\" width=\"200px\" />"
   ]
  },
  {
   "cell_type": "markdown",
   "metadata": {},
   "source": [
    "- leftmost / rightmost definition 57:59\n",
    "\t- must always replace the leftmost nonterminal with the result of a production\n",
    "\t- ex. S -> AB -> aB -> ab\n",
    "\t- ex. of rightmost: S -> AB -> Ab -> ab\n",
    "\n",
    "- ambiguity 1:01:21\n",
    "\t- don't want ambiguous grammars\n",
    "\t- add a production 1:12:00 (left associative)\n"
   ]
  },
  {
   "cell_type": "markdown",
   "metadata": {},
   "source": [
    "- precedence 1:15:27\n",
    "\n",
    "E -> E+T | E-T | T (least precedence)\n",
    "\n",
    "T -> T*P | P (higher precedence)\n",
    "\n",
    "P -> a|b|c|(E) (highest precedence)\n",
    "\n",
    "- precedence increases closer to operands?"
   ]
  },
  {
   "cell_type": "markdown",
   "metadata": {},
   "source": [
    "Lecture March 29\n",
    "Implementing a parser\n",
    "is string in language?\n",
    "\n",
    "Scanner\n",
    "source -> tokens (list / stream)\n",
    "- keywords, var names, etc.\n",
    "- these are the nonterminals in CFG"
   ]
  },
  {
   "cell_type": "markdown",
   "metadata": {},
   "source": [
    "Recursive decent parsing (16:35)\n",
    "- begin with start symbol S, input tokens t\n",
    "- rewrite S and consume tokens in t (via production)\n",
    "- until all tokens matched, or failure"
   ]
  },
  {
   "cell_type": "markdown",
   "metadata": {},
   "source": [
    "**CFG is for PARSING**"
   ]
  },
  {
   "cell_type": "markdown",
   "metadata": {},
   "source": [
    "- code for parsing 36:37\n",
    "- predictive parsing (vs. backtracking) 42:25\n",
    "- `first` function (44:06): first terminal token in a production (or another that the production might expand to)\n",
    "- `match_tok` a\n",
    "\t- if lookahead is a, match_tok consumes a and advances to the next token\n",
    "\n",
    "- for each nonterminal N, create parse_N\n",
    "\t- called when trying to parse the production N"
   ]
  },
  {
   "cell_type": "markdown",
   "metadata": {},
   "source": [
    "- eliminating left recursion 14:17\n",
    "- ASTs are more compact, abstract representations of a parse tree with only the essential parts (don't include nonterminals, etc. (I think) )\n",
    "- producing AST 35:00"
   ]
  },
  {
   "cell_type": "markdown",
   "metadata": {},
   "source": [
    "Formal Semantics of a programming language\n",
    "- mathematical description of what a programming languages computes and does\n",
    "\n",
    "Operational Semantics\n",
    "- often on an abstract machine (mathematical model of computer)\n",
    "- use rules to define a judgement e -> v\n",
    "\n",
    "- definitional interpreter: function that transforms e to v\n",
    "- write grammar to define AST\n",
    "\n",
    "more formal semantic rules -> rules of inference\n",
    "\n"
   ]
  },
  {
   "cell_type": "markdown",
   "metadata": {},
   "source": [
    "<img src=\"assets/roi.png\" width=\"300px\"/>\n",
    "<img src=\"assets/roi2.png\" width=\"400px\"/>"
   ]
  },
  {
   "cell_type": "markdown",
   "metadata": {},
   "source": [
    "- operational semantics define what a value \"means\" aka is evaluated to\n",
    "- derivation- apply rules to an expression in succession\n",
    "- derivations can be constructed by tracing definitional interpreter's call trees"
   ]
  },
  {
   "cell_type": "markdown",
   "metadata": {},
   "source": [
    "[April 5 Lecture](https://umd.hosted.panopto.com/Panopto/Pages/Viewer.aspx?id=35ebae0b-2590-4084-a894-ae6e011032c5)"
   ]
  },
  {
   "cell_type": "markdown",
   "metadata": {},
   "source": [
    "Operational semantics - rules of inferences\n",
    "- e2 {v1/x} -> v2\n",
    "\t- expression where all xs are replaced with v1\n",
    "- axioms, hypotheses, conclusion\n",
    "- environment: a map from variables to values\n",
    "\n",
    "operations on environments\n",
    "- **$\\cdot$** is the empty environment\n",
    "- A, x:v is an environment that extends A with a mapping from x to v\n",
    "\n",
    "Semantics with environments (~27:00)\n",
    "- A; e->v rather than e->v\n",
    "- put in environment rather than substituting immediately: \"Lazy\" substitution\n",
    "\n",
    "function/function calls 53:00\n",
    "Function Value\n",
    "\n",
    "<img src=\"assets/fval.png\" width=\"200px\" />"
   ]
  },
  {
   "cell_type": "markdown",
   "metadata": {},
   "source": [
    "Closure has environment * identifier * expression\n",
    "\n",
    "when evaluating function... create closure (create environment when function was defined)\n",
    "- this is known as static / lexical scope\n",
    "\n",
    "- dynamic scope functions don't contain an environment\n",
    "- A *type environment* G (rather than A) maps variables (identifiers) to types\n",
    "\n",
    "<img src=\"assets/typevval.png\" width=\"200px\" />"
   ]
  },
  {
   "cell_type": "markdown",
   "metadata": {},
   "source": [
    "Turing machine is like an automata with memory\n",
    "Turing completeness\n",
    "- turing machines are the most powerful description of computation possible\n",
    "- turing machines define Turing-compatable functions\n",
    "- A programming language is Turing complete if it can make a program for every turing machine"
   ]
  },
  {
   "cell_type": "markdown",
   "metadata": {},
   "source": [
    "### Lecture April 17"
   ]
  },
  {
   "cell_type": "markdown",
   "metadata": {},
   "source": [
    "Lambda Calculus\n",
    "- formal system to investigate functions and recursion\n",
    "- small programming language\n",
    "- has higher order, anonymous functions\n",
    "\n",
    "Lambda calculus expression defined as...\n",
    "\n",
    "- $\\lambda x.e$: abstraction (function definition)\n",
    "- $e e$: application (function call)\n"
   ]
  },
  {
   "cell_type": "markdown",
   "metadata": {},
   "source": [
    "scope of $\\lambda$ extends as far right as possible\n",
    "- $\\lambda x. \\lambda y. x y$ same as $\\lambda x.( \\lambda y. ( x y ) )$\n",
    "- function application is left-associative (because of currying)\n",
    "- x y z same as (x y) z\n",
    "\t- partially applying y to x before applying z to the result"
   ]
  },
  {
   "cell_type": "markdown",
   "metadata": {},
   "source": [
    "$\\beta$-reduction: ($\\lambda x.e1$) e2 -> e1[x:=e2] (replace x with e2 in e1)\n",
    "- basically lazy/call-by-name substitution\n",
    "$\\beta$-normal: no more substitution can occur\n",
    "\n",
    "eager vs lazy semantics\n",
    "- eager: evaluated argument down to normal, then replaces parameters with in body with argument values\n",
    "- lazy: replace parameter with argument expression in body, evaluate the body later"
   ]
  },
  {
   "cell_type": "markdown",
   "metadata": {},
   "source": [
    "- call by name: don't need to evaluate argument before substituting into function body (lazy)\n",
    "- call by value: more common (eager)\n",
    "- sometimes call by name can avoid infinite loop (46:00)"
   ]
  },
  {
   "cell_type": "markdown",
   "metadata": {},
   "source": [
    "$\\alpha$-reduction: rename shadowed (bound) variables\n"
   ]
  },
  {
   "cell_type": "markdown",
   "metadata": {},
   "source": [
    "- `true` represented by $\\lambda x. \\lambda y. x$\n",
    "- `false` represented by $\\lambda x. \\lambda y. y$\n",
    "\n",
    "can somehow encode numbers with functions..."
   ]
  },
  {
   "cell_type": "markdown",
   "metadata": {},
   "source": [
    "# Rust"
   ]
  },
  {
   "cell_type": "markdown",
   "metadata": {},
   "source": [
    "Rust Features\n",
    "- lifetimes and ownership (for type safety)\n",
    "- traits as core of object-like system\n",
    "- variable default is immutability\n",
    "- user defined data types (enums) and pattern matching\n",
    "- type inference\n",
    "- Generics (aka parametric polymorphism) (as types extend other types?)\n",
    "\t- polymorphism as in values can take on multiple types... in Java, subclasses can take on the type of a super class. In Rust, an object can take on the type of a trait\n",
    "- first-class functions\n",
    "- efficient c bindings"
   ]
  },
  {
   "cell_type": "markdown",
   "metadata": {},
   "source": [
    "- mutation only via owner\n",
    "- data has a lifetime\n",
    "- no garbage collector\n",
    "- primatives are copied on function invocation... other values' ownership is transferred"
   ]
  },
  {
   "cell_type": "markdown",
   "metadata": {},
   "source": [
    "- only one mutable reference at a time\n",
    "- unlimited immutable references\n",
    "- can't have immutable reference AND mutable reference at the same time"
   ]
  },
  {
   "cell_type": "markdown",
   "metadata": {},
   "source": [
    "- generics 23:00\n",
    "- lifetimes 23:40\n",
    "- can't assign shorter lifetime variable to a longer lifetime variable\n",
    "- can use longer lifetime vars when expecting shorter lifetime ones\n",
    "\t- called subsumption\n",
    "- string is a 3-tuple\n",
    "\t- pointer to byte array\n",
    "\t- length of string\n",
    "\t- max capacity\n",
    "\n",
    "- slice: pointer to subset of string\n",
    "- Rust's containers permit a way to reference a portion of an object's contents\n",
    "\n",
    "- if s is string\n",
    "- &s[range] is a string slice\n",
    "\n",
    "range is:\n",
    "- i..j from i to j (not including i)\n",
    "- s.char_indicies()\n",
    "- string literals are slices\n",
    "\n",
    "Generic Lifetimes\n",
    "\n",
    "```\n",
    "struct ImportantExcerpt<'a> {\n",
    "\tpart: &'a str // reference with a generic lifetime\n",
    "}\n",
    "```\n",
    "\n",
    "can parameterize over lifetimes 44:24"
   ]
  },
  {
   "cell_type": "markdown",
   "metadata": {},
   "source": [
    "Enums\n",
    "```\n",
    "enum IPAddr {\n",
    "\tV4(String),\n",
    "\tV6(String),\n",
    "}\n",
    "```\n"
   ]
  },
  {
   "cell_type": "markdown",
   "metadata": {},
   "source": [
    "Lecture April 26\n",
    "\n",
    "starting at 50:00, rest of notes are on ipad\n",
    "\n",
    "[link](https://umd.hosted.panopto.com/Panopto/Pages/Viewer.aspx?id=b4d58e97-bb3f-47f0-badf-ae830110728a)"
   ]
  },
  {
   "cell_type": "markdown",
   "metadata": {},
   "source": [
    "Rust:\n",
    "\n",
    "```enum Option<T> { Some(T), None, }```\n",
    "\n",
    "Ocaml:\n",
    "\n",
    "```type 'a Option = Some of 'a | None```"
   ]
  },
  {
   "cell_type": "markdown",
   "metadata": {},
   "source": [
    "struct or enum...\n",
    "- struct collection of field\n",
    "- every instance has those fields\n",
    "\n",
    "enum gives you variants...\n",
    "- one kind of a thing or another kind of a thing"
   ]
  },
  {
   "cell_type": "markdown",
   "metadata": {},
   "source": [
    "Generics in Structs & Methods 52:51\n",
    "\n",
    "Pattern matching 53:50\n",
    "\n",
    "- pattern matching must be exhausted\n"
   ]
  },
  {
   "cell_type": "markdown",
   "metadata": {},
   "source": [
    "if-let for non exhaustive matches...\n",
    "\n",
    "```\n",
    "if let Some(42) = x {\n",
    "\t// something\n",
    "} else {\n",
    "\t// something else\n",
    "}\n",
    "```"
   ]
  },
  {
   "cell_type": "markdown",
   "metadata": {},
   "source": [
    "```\n",
    "enum Number {\n",
    "\tZero,\n",
    "\tOne,\n",
    "\tTwo,\n",
    "}\n",
    "use Number::Zero\n",
    "```\n",
    "`use Number::Zero` allows the `Zero` constructor to be used without the \"prepending\" `Number::`"
   ]
  },
  {
   "cell_type": "markdown",
   "metadata": {},
   "source": [
    "recap: structs and enums 1:03:05"
   ]
  },
  {
   "cell_type": "markdown",
   "metadata": {},
   "source": [
    "Traits\n",
    "\n",
    "- abstract behavior that types can have in common\n",
    "- like Java interfaces\n",
    "- can implement traits over any type\n",
    "\n",
    "```\n",
    "pub trait Summarizable {\n",
    "\tfn summary(&self) -> String;\n",
    "}\n",
    "```\n",
    "\n",
    "If a type is Summarizable it must have a method that takes itself and nothing else and returns a String\n",
    "\n",
    "note: pub makes any module function, or data structure accessible from inside of the external modules"
   ]
  },
  {
   "cell_type": "markdown",
   "metadata": {},
   "source": [
    "Java equivalent 1:06:00"
   ]
  },
  {
   "cell_type": "markdown",
   "metadata": {},
   "source": [
    "implementing Summarizable for any tuple of i32... not even a struct!\n",
    "\n",
    "```\n",
    "impl Summarizable for (i32,i32) {\n",
    "\tfn summary(&self) -> String {\n",
    "\t\tlet &(x,y) = self;\n",
    "\t\tformat!(\"{}\",x+y)\n",
    "\t}\n",
    "}\n",
    "```\n",
    "\n",
    "then can do...\n",
    "\n",
    "```\n",
    "let y = (1,2).summary();\n",
    "```"
   ]
  },
  {
   "cell_type": "markdown",
   "metadata": {},
   "source": [
    "Default implementations: traits that are implemented automatically (default)\n",
    "```\n",
    "pub trait Summarizable {\n",
    "\tfn summary(&self) -> String {\n",
    "\t\tString::from(\"none\")\n",
    "\t}\n",
    "}\n",
    "```\n",
    "\n",
    "typically traits are just a list of method signitures... but they can contain default implementations, too.\n",
    "\n",
    "of course, default implementations can be overrided."
   ]
  },
  {
   "cell_type": "markdown",
   "metadata": {},
   "source": [
    "### Lecture May 28\n",
    "[link](https://umd.hosted.panopto.com/Panopto/Pages/Viewer.aspx?id=860725a8-12f3-4c1a-8676-ae850110107a)"
   ]
  },
  {
   "cell_type": "markdown",
   "metadata": {},
   "source": [
    "### Trait Bounds\n",
    "- parameterize over a type that has a trait\n",
    "\n",
    "```\n",
    "pub fn notify<T: Summarizable>(item: T) {\n",
    "\tprintln(\"{}\",item.summary());\n",
    "}\n",
    "```\n",
    "\n",
    "- same as in Java... `<T extends Summarizable>`\n",
    "- where `T` must implement `Summarizable`"
   ]
  },
  {
   "cell_type": "markdown",
   "metadata": {},
   "source": [
    "- trait implementations can be generic 6:30\n",
    "\n",
    "- multiple trait bounds using +\n",
    "`fn foo<T: Clone + Summarizable>() -> i32 {}` or `fn foo<T>() -> i32 where T: Clone + Summarizable {}`\n",
    "\n"
   ]
  },
  {
   "cell_type": "markdown",
   "metadata": {},
   "source": [
    "- `Box<T>` Smart Pointers\n",
    "\n",
    "- `Box<T>` values point to heap-allocated data\n",
    "- the `Box<T>` value (the pointer) is on the stack, while its pointed-to T value is allocated on the heap\n",
    "\t- has `Deref` trait\n",
    "\t- has `Drop` trait\n",
    "\n",
    "- can reduce copying?\n",
    "- more efficient recursive type?"
   ]
  },
  {
   "cell_type": "markdown",
   "metadata": {},
   "source": [
    "Example: a Linked List\n",
    "\n",
    "this doesn't work:\n",
    "```\n",
    "enum List {\n",
    "\tNul,\n",
    "\tCons(i32,List)\n",
    "}\n",
    "```\n",
    "- compiler doesn't know the size of List\n",
    "- since List is recursive, it could be any size\n",
    "\n",
    "soln: use a Box to add an indirection...\n",
    "\n",
    "```\n",
    "enum List {\n",
    "\tNul, Cons(i32, Box<List>)\n",
    "}\n",
    "```\n",
    "now the size is fixed: i32 + size of pointer OR size of Nil\n"
   ]
  },
  {
   "cell_type": "markdown",
   "metadata": {},
   "source": [
    "\"referred-to\" data (in heap) dropped as soon as the box goes out of scope"
   ]
  },
  {
   "cell_type": "markdown",
   "metadata": {},
   "source": [
    "Deref\n",
    "\n",
    "- if `x` is an `int` then `&x` is an `&int`\n",
    "\n",
    "- `*(&x) = x`\n",
    "\n",
    "- Deref trait requires `deref(&self) -> &T` method\n",
    "\n",
    "- DerefMut trait for when an object is mutable\n",
    "\n",
    "- example of compiler inserting a deref call 22:22"
   ]
  },
  {
   "cell_type": "markdown",
   "metadata": {},
   "source": [
    "receiver method 27:00\n",
    "- Java has dynamic dispatch (polymorphism). The correct method to run is determined at runtime\n",
    "\n",
    "- To implement dispatch in Rust, use trait objects\n",
    "\n",
    "- `dyn Summarizable`, wrapped in `Box` 30:00\n",
    "\n",
    "```\n",
    "fn print_summarizable(s: Box<dyn Summarizable>) {\n",
    "\tprintln!(\"{}\", sm.summary())\n",
    "}\n",
    "```\n",
    "\n",
    "callers of method use Box to put the data on the heap\n",
    "\n",
    "```\n",
    "pub fn main() {\n",
    "\tlet b = Box::new(42);\n",
    "\tprint_summarizable(b)\n",
    "}\n",
    "```\n"
   ]
  },
  {
   "cell_type": "markdown",
   "metadata": {},
   "source": [
    "- need Box because `dyn Summarizable` doesn't have a known size at compile-time"
   ]
  },
  {
   "cell_type": "markdown",
   "metadata": {},
   "source": [
    "Box and size\n",
    "- `Box<i32>` is a pointer to a heap-allocated i32\n",
    "- `Box<dyn Summarizable>` is a fat pointer to a heap-allocated Summarizable\n",
    "\n",
    "size of struct 33:30\n",
    "\n",
    "\n"
   ]
  },
  {
   "cell_type": "markdown",
   "metadata": {},
   "source": [
    "Box: smart pointer 34:53\n",
    "- A smart pointer is a reference + metadata\n",
    "- `String`, `Vec<T>`, `Box<T>`\n",
    "\n",
    "Boxes are useful for non cyclic, immutable data structures\n",
    "use trait objects of type `Box<dyn Trait>`"
   ]
  },
  {
   "cell_type": "markdown",
   "metadata": {},
   "source": [
    "Rust ownership / mutability rules 37:55\n",
    "- enables type safety, but quite restrictive\n",
    "- sometimes mutation and sharing is useful\n",
    "- shared mutable access to the owner is disallowed in rust\n",
    "- there is a way to overcome this\n",
    "\t- multiple references to mutable data, but, keep track of how many\n",
    "\t- this is called interior mutability\n",
    "\t- there are extra space and time overhead when keeping track of references\n",
    "\t- might violate rust ownership at runtime\n",
    "\n",
    "example 49:10\n"
   ]
  },
  {
   "cell_type": "markdown",
   "metadata": {},
   "source": [
    "rules for interior mutability 53:25\n",
    "- smart pointer associates a counter with the underlying reference\n",
    "- clone copes the pointer and bumps the counter by one\n",
    "- calling drop reduces the counter by one\n",
    "- when the counter hits zero the data is freed\n",
    "- counter is called refCount"
   ]
  },
  {
   "cell_type": "markdown",
   "metadata": {},
   "source": [
    "cyclic data 1:05:00"
   ]
  },
  {
   "cell_type": "markdown",
   "metadata": {},
   "source": [
    "Rc references: no mutation 1:09:42\n",
    "- needed for a case like lists with tails that are shared\n",
    "- cant have multiple references that mutate the heap value"
   ]
  },
  {
   "cell_type": "markdown",
   "metadata": {},
   "source": [
    "- `Box<T>`references data that is immutable\n",
    "- `Cell<T>` is like `Box<T>` but with mutable contents\n",
    "- Rc is like `Box<T>` but with multiple references\n",
    "- RefCell is like `Cell<T>` but with multiple mutable references"
   ]
  },
  {
   "cell_type": "markdown",
   "metadata": {},
   "source": [
    "RefCell has a *dynamic* borrow"
   ]
  },
  {
   "cell_type": "markdown",
   "metadata": {},
   "source": [
    "### Lecture May 3\n",
    "[link](https://umd.hosted.panopto.com/Panopto/Pages/Viewer.aspx?id=071c17cc-1e4d-4dc3-8702-ae8a0110bba2)"
   ]
  },
  {
   "cell_type": "markdown",
   "metadata": {},
   "source": [
    "summary from last lecture:\n",
    "- `Box<T>`references data that is immutable\n",
    "- `Cell<T>` is like `Box<T>` but with mutable contents\n",
    "- Rc is like `Box<T>` but with multiple references\n",
    "- RefCell is like `Cell<T>` but with multiple mutable references\n",
    "\t- even with multiple mutable references... can't just borrow the thing twice (and open the possibility of mutating concurrently)"
   ]
  },
  {
   "cell_type": "markdown",
   "metadata": {},
   "source": [
    "`Ref<T>` vs. `&T` 3:54\n",
    "\n",
    "- `&T` and `&mut T` are static (compile-time) tracked borrows\n",
    "- `RefCell<T>::borrow (Ref<T>)` is a dynamic (run-time) tracked borrow\n",
    "\n",
    "how does `Ref<T>` work? 6:20"
   ]
  },
  {
   "cell_type": "markdown",
   "metadata": {},
   "source": [
    "Shared Mutable Data\n",
    "- `Rc<RefCell<T>>`\n",
    "- `RefCell` permits mutating T at runtime\n",
    "- `Rc` permits sharing\n",
    "- `Rc<RefCell<T>>` has two counts:\n",
    "\t- reference count for `Rc` (should the `RefCell` be deallocated?)\n",
    "\t\t- dynamic version of lifetime\n",
    "\t- borrow count for `RefCell`\n",
    "\t\t- dynamic version of borrow checking"
   ]
  },
  {
   "cell_type": "markdown",
   "metadata": {},
   "source": [
    "summary 15:24\n",
    "- `Rc<T>` enables multiple owners of the same data. `Box<T>` and `RefCell<T>` have single owners\n",
    "- `Box<T>` allows immutable or mutable borrows checked at compile time.\n",
    "\t- `Rc<T>` allows only immutable borrows checked at compile time\n",
    "\t- `RefCell<T>` allows immutable or mutable borrows checked at runtime\n",
    "- Because `RefCell<T>` allows mutable borrows checked at runtime, you can mutate the value inside the `RefCell<T>` even when the `RefCell<T>` is immutable\n"
   ]
  },
  {
   "cell_type": "markdown",
   "metadata": {},
   "source": [
    "- Cell and RefCell allows for interior mutability\n",
    "- RC allows for multiple \"owners\"\n",
    "- RefCell uses Cell to store its state\n",
    "- Cell is not atomic and has no borrow checking mechanisms\n",
    "\n",
    "Cell and RefCell are marked as !sync which means you can't use them safely in a threading environment\n",
    "\n",
    "RwLock replaces RefCell for thread safety 19:10\n",
    "\n",
    "RwLock does not panic, it waits until it can borrow (thread safe)\n",
    "ex: one thread that has a mutable borrow of something (is updating) and another thread wants to have a mutable borrow of that same piece of data... the other thread will just wait for the first one's mutable borrow to go out of scope and be dropped"
   ]
  },
  {
   "cell_type": "markdown",
   "metadata": {},
   "source": [
    "Rust programs don't crash, they just hang (still can have deadlock errors)\n"
   ]
  },
  {
   "cell_type": "markdown",
   "metadata": {},
   "source": [
    "GcRef in Rust -> Garbage collected reference 26:35\n",
    "- `GcRef<T>` can replace `Rc<T>` and `RefCell<T>`"
   ]
  },
  {
   "cell_type": "markdown",
   "metadata": {},
   "source": [
    "No dynamic ownership checks with `GcRef<T>`... This allows \"surprise\" mutation"
   ]
  },
  {
   "cell_type": "markdown",
   "metadata": {},
   "source": [
    "closures in Rust 37:00\n",
    "```\n",
    "let left = |x| x - 1\n",
    "```\n",
    "(captures environment)\n",
    "\n",
    "local functions have no environment"
   ]
  },
  {
   "cell_type": "markdown",
   "metadata": {},
   "source": [
    "Rust doesn't infer polymorphic types"
   ]
  },
  {
   "cell_type": "markdown",
   "metadata": {},
   "source": [
    "Iteration using the Iterator Trait\n",
    "recall earlier example:\n",
    "```\n",
    "let a = vec![10, 20, 30, 40, 50];\n",
    "\n",
    "for e in a.iter() {\n",
    "\tprintln!(\"the value isL {}\", e);\n",
    "}\n",
    "```\n",
    "the iter() method returns an iterator (value with the Iterator trait)"
   ]
  },
  {
   "cell_type": "markdown",
   "metadata": {},
   "source": [
    "```\n",
    "trait Iterator {\n",
    "\ttype Item; // associated type\n",
    "\tfn next(&mut self) -> Option<Self::Item>\n",
    "}\n",
    "```"
   ]
  },
  {
   "cell_type": "markdown",
   "metadata": {},
   "source": [
    "calls to `next` product immutable references to values"
   ]
  },
  {
   "cell_type": "markdown",
   "metadata": {},
   "source": [
    "- can make one iterator from another\n",
    "- lazy application\n",
    "\n",
    "43:00\n"
   ]
  },
  {
   "cell_type": "markdown",
   "metadata": {
    "vscode": {
     "languageId": "plaintext"
    }
   },
   "source": [
    "left off 50:32"
   ]
  }
 ],
 "metadata": {
  "language_info": {
   "name": "python"
  },
  "orig_nbformat": 4
 },
 "nbformat": 4,
 "nbformat_minor": 2
}
