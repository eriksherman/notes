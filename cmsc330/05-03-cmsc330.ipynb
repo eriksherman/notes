{
 "cells": [
  {
   "cell_type": "markdown",
   "metadata": {},
   "source": [
    "### Lecture May 3\n",
    "[link](https://umd.hosted.panopto.com/Panopto/Pages/Viewer.aspx?id=071c17cc-1e4d-4dc3-8702-ae8a0110bba2)"
   ]
  },
  {
   "cell_type": "markdown",
   "metadata": {},
   "source": [
    "summary from last lecture:\n",
    "- `Box<T>`references data that is immutable\n",
    "- `Cell<T>` is like `Box<T>` but with mutable contents\n",
    "- Rc is like `Box<T>` but with multiple references\n",
    "- RefCell is like `Cell<T>` but with multiple mutable references\n",
    "\t- even with multiple mutable references... can't just borrow the thing twice (and open the possibility of mutating concurrently)"
   ]
  },
  {
   "cell_type": "markdown",
   "metadata": {},
   "source": [
    "`Ref<T>` vs. `&T` 3:54\n",
    "\n",
    "- `&T` and `&mut T` are static (compile-time) tracked borrows\n",
    "- `RefCell<T>::borrow (Ref<T>)` is a dynamic (run-time) tracked borrow\n",
    "\n",
    "how does `Ref<T>` work? 6:20"
   ]
  },
  {
   "cell_type": "markdown",
   "metadata": {},
   "source": [
    "Shared Mutable Data\n",
    "- `Rc<RefCell<T>>`\n",
    "- `RefCell` permits mutating T at runtime\n",
    "- `Rc` permits sharing\n",
    "- `Rc<RefCell<T>>` has two counts:\n",
    "\t- reference count for `Rc` (should the `RefCell` be deallocated?)\n",
    "\t\t- dynamic version of lifetime\n",
    "\t- borrow count for `RefCell`\n",
    "\t\t- dynamic version of borrow checking"
   ]
  },
  {
   "cell_type": "markdown",
   "metadata": {},
   "source": [
    "summary 15:24\n",
    "- `Rc<T>` enables multiple owners of the same data. `Box<T>` and `RefCell<T>` have single owners\n",
    "- `Box<T>` allows immutable or mutable borrows checked at compile time.\n",
    "\t- `Rc<T>` allows only immutable borrows checked at compile time\n",
    "\t- `RefCell<T>` allows immutable or mutable borrows checked at runtime\n",
    "- Because `RefCell<T>` allows mutable borrows checked at runtime, you can mutate the value inside the `RefCell<T>` even when the `RefCell<T>` is immutable\n"
   ]
  },
  {
   "cell_type": "markdown",
   "metadata": {},
   "source": [
    "- Cell and RefCell allows for interior mutability\n",
    "- RC allows for multiple \"owners\"\n",
    "- RefCell uses Cell to store its state\n",
    "- Cell is not atomic and has no borrow checking mechanisms\n",
    "\n",
    "Cell and RefCell are marked as !sync which means you can't use them safely in a threading environment\n",
    "\n",
    "RwLock replaces RefCell for thread safety 19:10\n",
    "\n",
    "RwLock does not panic, it waits until it can borrow (thread safe)\n",
    "ex: one thread that has a mutable borrow of something (is updating) and another thread wants to have a mutable borrow of that same piece of data... the other thread will just wait for the first one's mutable borrow to go out of scope and be dropped"
   ]
  },
  {
   "cell_type": "markdown",
   "metadata": {},
   "source": [
    "Rust programs don't crash, they just hang (still can have deadlock errors)\n"
   ]
  },
  {
   "cell_type": "markdown",
   "metadata": {},
   "source": [
    "GcRef in Rust -> Garbage collected reference 26:35\n",
    "- `GcRef<T>` can replace `Rc<T>` and `RefCell<T>`"
   ]
  },
  {
   "cell_type": "markdown",
   "metadata": {},
   "source": [
    "No dynamic ownership checks with `GcRef<T>`... This allows \"surprise\" mutation"
   ]
  },
  {
   "cell_type": "markdown",
   "metadata": {},
   "source": [
    "closures in Rust 37:00\n",
    "```\n",
    "let left = |x| x - 1\n",
    "```\n",
    "(captures environment)\n",
    "\n",
    "local functions have no environment"
   ]
  },
  {
   "cell_type": "markdown",
   "metadata": {},
   "source": [
    "Rust doesn't infer polymorphic types"
   ]
  },
  {
   "cell_type": "markdown",
   "metadata": {},
   "source": [
    "Iteration using the Iterator Trait\n",
    "recall earlier example:\n",
    "```\n",
    "let a = vec![10, 20, 30, 40, 50];\n",
    "\n",
    "for e in a.iter() {\n",
    "\tprintln!(\"the value isL {}\", e);\n",
    "}\n",
    "```\n",
    "the iter() method returns an iterator (value with the Iterator trait)"
   ]
  },
  {
   "cell_type": "markdown",
   "metadata": {},
   "source": [
    "```\n",
    "trait Iterator {\n",
    "\ttype Item; // associated type\n",
    "\tfn next(&mut self) -> Option<Self::Item>\n",
    "}\n",
    "```"
   ]
  },
  {
   "cell_type": "markdown",
   "metadata": {},
   "source": [
    "calls to `next` product immutable references to values"
   ]
  },
  {
   "cell_type": "markdown",
   "metadata": {},
   "source": [
    "- can make one iterator from another\n",
    "- lazy application\n",
    "\n",
    "43:00\n"
   ]
  },
  {
   "cell_type": "code",
   "execution_count": null,
   "metadata": {
    "vscode": {
     "languageId": "plaintext"
    }
   },
   "outputs": [],
   "source": [
    "left off 50:32"
   ]
  }
 ],
 "metadata": {
  "language_info": {
   "name": "python"
  },
  "orig_nbformat": 4
 },
 "nbformat": 4,
 "nbformat_minor": 2
}
