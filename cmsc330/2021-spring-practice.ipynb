{
 "cells": [
  {
   "cell_type": "markdown",
   "metadata": {},
   "source": [
    "[spring 2021 final](assets/practice1.pdf)"
   ]
  },
  {
   "cell_type": "markdown",
   "metadata": {},
   "source": [
    "start: 10:57AM"
   ]
  },
  {
   "cell_type": "markdown",
   "metadata": {},
   "source": [
    "Q1.1\n",
    "- lexical: \"Goodbye!\"\n",
    "- dynamic: \"Goodbye!\" (same)\n",
    "\n",
    "<span style=\"color:#ff6961\">correct</span>"
   ]
  },
  {
   "cell_type": "markdown",
   "metadata": {},
   "source": [
    "Q1.2\n",
    "- translates a program to machine code\n",
    "\n",
    "<span style=\"color:#ff6961\">incorrect: a compiler translates a program from one language to another, not necessarily to machine code</span>"
   ]
  },
  {
   "cell_type": "markdown",
   "metadata": {},
   "source": [
    "Q1.3 dynamic typing\n",
    "- ruby\n",
    "\n",
    "<span style=\"color:#ff6961\">correct</span>"
   ]
  },
  {
   "cell_type": "markdown",
   "metadata": {},
   "source": [
    "Q1.4\n",
    "Reference counting has which of the following benefits over tracing garbage collection?\n",
    "- memory can be free immediately once it becomes unreachable\n",
    "- (what is \"it performs compaction to reduce fragmentation\"?)\n",
    "\n",
    "<span style=\"color:#ff6961\">also: determines reachability incrementally, as the program executes... I guess because \"drop\" is essentially called at the bottom of a scope...</span>"
   ]
  },
  {
   "cell_type": "markdown",
   "metadata": {},
   "source": [
    "Q1.5\n",
    "- (Java classes can have multiple interfaces, and Rust types can have multiple traits)\n",
    "- B is true. Rust traits can be applied to any type.\n",
    "- (both Java interfaces and Rust traits support generic type parameters)\n",
    "\n",
    "\n",
    "<span style=\"color:#ff6961\">correct</span>"
   ]
  },
  {
   "cell_type": "markdown",
   "metadata": {},
   "source": [
    "Q1.6\n",
    "(uniq is not mutating the list)\n",
    "- C is true\n",
    "\n",
    "inputs\n",
    "- list of small integers\n",
    "\n",
    "<span style=\"color:#ff6961\">both correct</span>"
   ]
  },
  {
   "cell_type": "markdown",
   "metadata": {},
   "source": [
    "Q2.1"
   ]
  },
  {
   "cell_type": "markdown",
   "metadata": {},
   "source": [
    "blank #1: yield block_given grade\n",
    "\n",
    "<span style=\"color:#ff6961\">block_given? is a var, block_given isn't. block_given wrong</span>\n",
    "\n",
    "\n",
    "blank #2: x - 95\n",
    "\n",
    "<span style=\"color:#ff6961\">I think still correct, \"0\" would also work</span>"
   ]
  },
  {
   "cell_type": "markdown",
   "metadata": {},
   "source": [
    "Q2.2"
   ]
  },
  {
   "cell_type": "code",
   "execution_count": null,
   "metadata": {
    "vscode": {
     "languageId": "ruby"
    }
   },
   "outputs": [],
   "source": [
    "x = Hash.new []\n",
    "x[\"3xx\"] = [330, 351]"
   ]
  },
  {
   "cell_type": "markdown",
   "metadata": {},
   "source": [
    "<span style=\"color:#ff6961\">correct</span>"
   ]
  },
  {
   "cell_type": "markdown",
   "metadata": {},
   "source": [
    "Q2.3\n",
    "- [regex builder](https://regexr.com)\n",
    "- `/a([a-zA-Z]{2})z/`"
   ]
  },
  {
   "cell_type": "markdown",
   "metadata": {},
   "source": [
    "<span style=\"color:#ff6961\">correct</span>"
   ]
  },
  {
   "cell_type": "markdown",
   "metadata": {},
   "source": [
    "Q2.4\n",
    "\n",
    "- blank #1: `map`\n",
    "- blank #2: `val / 2`\n",
    "\n",
    "<span style=\"color:#ff6961\">correct</span>"
   ]
  },
  {
   "cell_type": "markdown",
   "metadata": {},
   "source": [
    "Q2.5 Classes\n",
    "- blank #1: \n",
    "<span style=\"color:#ff6961\">attr_reader :n, m (needed for addition method)</span>\n",
    "- blank #2: `return \"#{@n} + #{@m}i\"`"
   ]
  },
  {
   "cell_type": "markdown",
   "metadata": {},
   "source": [
    "Q3.1\n",
    "- `let fun1 x -> 1`\n",
    "\n",
    "<span style=\"color:#ff6961\">even easier to define function: (fun a -> 0)</span>"
   ]
  },
  {
   "cell_type": "code",
   "execution_count": null,
   "metadata": {
    "vscode": {
     "languageId": "ocaml"
    }
   },
   "outputs": [],
   "source": [
    "fun a b -> map (c -> c a) b"
   ]
  },
  {
   "cell_type": "markdown",
   "metadata": {},
   "source": [
    "Q3.3\n",
    "- `'a -> 'a -> 'a -> 'a`\n",
    "\n",
    "<span style=\"color:#ff6961\">incorrect. z used as boolean as well as int</span>"
   ]
  },
  {
   "cell_type": "markdown",
   "metadata": {},
   "source": [
    "Q3.4"
   ]
  },
  {
   "cell_type": "code",
   "execution_count": null,
   "metadata": {
    "vscode": {
     "languageId": "ocaml"
    }
   },
   "outputs": [],
   "source": [
    "List.fold_left (fun a x -> a + x + 1) 0 [6; 0; 4]"
   ]
  },
  {
   "cell_type": "markdown",
   "metadata": {},
   "source": [
    "- blank: `x+1`"
   ]
  },
  {
   "cell_type": "markdown",
   "metadata": {},
   "source": [
    "<span style=\"color:#ff6961\">correct</span>"
   ]
  },
  {
   "cell_type": "markdown",
   "metadata": {},
   "source": [
    "Q3.5\n",
    "- `[4; 0; 6]`"
   ]
  },
  {
   "cell_type": "markdown",
   "metadata": {},
   "source": [
    "<span style=\"color:#ff6961\">incorrect. correct answer was [6; 0; 4] because the the nature of recursive calls (deepest level first before bubbling back up). should've tested (or marked to test later)</span>"
   ]
  },
  {
   "cell_type": "markdown",
   "metadata": {},
   "source": [
    "Q3.6\n",
    "function that accepts a list of integers and returns a list of integers representing the smallest number in a sublist\n",
    "\n",
    "- #1: \n",
    "`(fun a c -> (if min a c = a then a else c) ) (match lst with h::t -> h |[] -> failwith \"error\") lst\n",
    "`\n",
    "- #2 \n",
    "`\n",
    "[]\n",
    "`\n",
    "- #3 \n",
    "`\n",
    "h::t\n",
    "`"
   ]
  },
  {
   "cell_type": "markdown",
   "metadata": {},
   "source": [
    "<span style=\"color:#ff6961\">I think correct... should test in OCaml (with utop)</span>"
   ]
  },
  {
   "cell_type": "markdown",
   "metadata": {},
   "source": [
    "Q4.1\n",
    "NFA to Regex...\n",
    "\n",
    "A|B\n",
    "A is (ab+)+\n",
    "B is a*b*\n",
    "\n",
    "final is (ab+)+|(a*b*)\n",
    "\n",
    "// instead of character in regex, you can use a ex. [a-z]"
   ]
  },
  {
   "cell_type": "markdown",
   "metadata": {},
   "source": [
    "Q4.2 NFA accept\n",
    "- ab\n",
    "- aba"
   ]
  },
  {
   "cell_type": "markdown",
   "metadata": {},
   "source": [
    "<span style=\"color:#ff6961\">correct</span>"
   ]
  },
  {
   "cell_type": "markdown",
   "metadata": {},
   "source": [
    "Y is [2,4]\n",
    "X is [2,3]\n",
    "Z is [4]\n",
    "- Q4.3 NFA -> DFA (X) [2,3]\n",
    "\n",
    "<span style=\"color:#ff6961\">correct</span>\n",
    "\n",
    "- Q4.4 NFA -> DFA (Y) [2,4]\n",
    "\n",
    "<span style=\"color:#ff6961\">incorrect... [2,3,4] is correct (missed 3 on the $\\epsilon$ transition</span>\n",
    "\n",
    "- Q4.5 NFA -> DFA (Z) [4]\n",
    "- Q4.6 NFA -> DFA (final) [X,Y]"
   ]
  },
  {
   "cell_type": "markdown",
   "metadata": {},
   "source": [
    "Q4.7\n",
    "- C"
   ]
  },
  {
   "cell_type": "markdown",
   "metadata": {},
   "source": [
    "<span style=\"color:#ff6961\">correct. best practice is just to look at the simple cases of union, concat., closure</span>"
   ]
  },
  {
   "cell_type": "markdown",
   "metadata": {},
   "source": [
    "Q5.1\n",
    "- false"
   ]
  },
  {
   "cell_type": "markdown",
   "metadata": {},
   "source": [
    "<span style=\"color:#ff6961\">correct</span>"
   ]
  },
  {
   "cell_type": "markdown",
   "metadata": {},
   "source": [
    "Q5.2\n",
    "- false\n",
    "\n",
    "CFG accepts a string means there exists a unique parse tree?\n",
    "Look into parse trees and how they relate to CFGs"
   ]
  },
  {
   "cell_type": "markdown",
   "metadata": {},
   "source": [
    "<span style=\"color:#ff6961\">correct... can parse a grammar multiple ways. a parse tree just seems to be a tree that is resultant from parsing a CFG with a string. leaf nodes are terminals, parent nodes are non-terminals</span>"
   ]
  },
  {
   "cell_type": "markdown",
   "metadata": {},
   "source": [
    "Q5.3 ambiguity\n",
    "- 2 distinct derivations of ccc\n",
    "- S -> SS\n",
    "- S -> T\n",
    "- S -> T\n",
    "- T -> c\n",
    "- T -> TT\n",
    "- T -> c\n",
    "- T -> c\n",
    "\n",
    "(first of the Ts can go to TT and the second to c, or the first to TT and the second to c) making the grammar ambiguous"
   ]
  },
  {
   "cell_type": "markdown",
   "metadata": {},
   "source": [
    "<span style=\"color:#ff6961\">suppost to derive via the following:</span>\n",
    "\n",
    "each step is transforming one non-terminal to a result via a production\n",
    "\n",
    "ambiguity means 2 separate parse trees for the same context-free grammar\n",
    "\n",
    "S -> T -> TT -> TTT -> cTT -> ccT -> ccc\n",
    "(second way)\n",
    "S -> T -> TT -> TTT -> TcT -> ccT -> ccc\n"
   ]
  },
  {
   "cell_type": "markdown",
   "metadata": {},
   "source": [
    "12:22 (check work)\n",
    "\n",
    "1:03 done. continue"
   ]
  },
  {
   "cell_type": "markdown",
   "metadata": {},
   "source": [
    "Q5.4\n",
    "leftmost derivation of `x*2`\n",
    "\n",
    "`Exp -> Add -> Mul -> Primary*Mul -> ID*Mul -> x*Mul -> x*Primary -> x*Int -> x*2`"
   ]
  },
  {
   "cell_type": "markdown",
   "metadata": {},
   "source": [
    "Q6.1\n",
    "bug in c...\n",
    "- obviously buffer overflow is the only possibility...\n",
    "- use after free wrong because no free\n",
    "- SQL injection wrong because no string input parsed...\n",
    "- command injection wrong because no string input parsed..."
   ]
  },
  {
   "cell_type": "markdown",
   "metadata": {},
   "source": [
    "anything over 50, e.g. `100`"
   ]
  },
  {
   "cell_type": "markdown",
   "metadata": {},
   "source": [
    "on line 1 increase the limit of a to 50, or have an if n > whatever return out a value like -1"
   ]
  },
  {
   "cell_type": "markdown",
   "metadata": {},
   "source": [
    "Type safe languages, no buffer overflow because the compiler knows you overflowed bounds at compile time?\n",
    "because there are no pointers... every value has a type, no values that don't and are accessed where type is determined at runtime"
   ]
  },
  {
   "cell_type": "markdown",
   "metadata": {},
   "source": [
    "real answer: the size of the buffer is part of the type, and the compiler adds bounds checks beore memory is accessed"
   ]
  },
  {
   "cell_type": "markdown",
   "metadata": {},
   "source": [
    "Q7.1 \n",
    "- blank #1: i32\n",
    "- blank #2: mut\n",
    "- blank #3: i = i - 1\n"
   ]
  },
  {
   "cell_type": "markdown",
   "metadata": {},
   "source": [
    "Q7.2\n",
    "- blank #1: match self.flavor {Flavor:: Sweet {\"sweet\"}, Flavor:: Savory {\"savory\"}}"
   ]
  },
  {
   "cell_type": "markdown",
   "metadata": {},
   "source": [
    "- Q7.3: a owns it, b borrows it?\n",
    "- Q7.4: none. type error because b's ownership was transferred to d and then lost because d dropped out of scope"
   ]
  },
  {
   "cell_type": "markdown",
   "metadata": {},
   "source": [
    "Q7.5\n",
    "the borrow is not mutable therefor the mutation function doesn't work\n",
    "make the function take a mutable borrow, pass a mutable borrow to it as an argument"
   ]
  },
  {
   "cell_type": "markdown",
   "metadata": {},
   "source": [
    "Q7.6 4,7?\n",
    "- does clone(&<ref variable>) increase ref count?>\n",
    "\n",
    "<span style=\"color:#ff6961\">yes. correct</span>"
   ]
  },
  {
   "cell_type": "markdown",
   "metadata": {},
   "source": [
    "Q7.7 count decreased on 9,10 (9 because r4 goes out of scope, 10 because ? 11 I think...)"
   ]
  },
  {
   "cell_type": "markdown",
   "metadata": {},
   "source": [
    "Q8.1\n",
    "- (λx. x (λy. x)) x\n",
    "- alpha equivalent... renaming bound variables\n",
    "- 1, 3, 4\n",
    "<span style=\"color:#ff6961\">not 3... can't rename an unbound variable</span>\n",
    "- beta reduction is substituting expression for a parameter"
   ]
  },
  {
   "cell_type": "markdown",
   "metadata": {},
   "source": [
    "Q8.2\n",
    "\n",
    "evaluation strategy...\n",
    "1. (lazy): first one\n",
    "\n",
    "<span style=\"color:#ff6961\">correct</span>"
   ]
  },
  {
   "cell_type": "markdown",
   "metadata": {},
   "source": [
    "Q8.3 eager... second one\n",
    "\n",
    "<span style=\"color:#ff6961\">correct</span>"
   ]
  },
  {
   "cell_type": "markdown",
   "metadata": {},
   "source": [
    "beta reductions mean substitution...\n",
    "- never reaches beta normal form\n",
    "\n",
    "<span style=\"color:#ff6961\">correct</span>"
   ]
  },
  {
   "cell_type": "markdown",
   "metadata": {},
   "source": [
    "Y combinator... avoid shadowing? (copying, new tech)\n",
    "nah, unfortunately.\n",
    "\n",
    "implements recursion?\n",
    "declaring recursion, referring to it, then assigning lambda to it\n",
    "\n",
    "<span style=\"color:#ff6961\">correct</span>"
   ]
  }
 ],
 "metadata": {
  "language_info": {
   "name": "python"
  },
  "orig_nbformat": 4
 },
 "nbformat": 4,
 "nbformat_minor": 2
}
